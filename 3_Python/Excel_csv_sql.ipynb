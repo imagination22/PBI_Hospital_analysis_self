{
 "cells": [
  {
   "cell_type": "markdown",
   "id": "96340558",
   "metadata": {},
   "source": [
    "\n",
    "\n",
    "## 🛠 Excel to CSV Conversion Script\n",
    "\n",
    "This Python script converts all `.xlsx` files in a source directory into CSV format. It processes every sheet, ensures the destination folder exists, avoids overwriting existing files, and appends a suffix if duplicates are found.\n",
    "\n",
    "**Why CSV?**  \n",
    "CSV files are easier to load into SQL Server using tools like `BULK INSERT` or SSIS, offering better compatibility and performance compared to Excel files.\n",
    "\n",
    "---\n",
    "\n",
    "Let me know if you’d like to integrate this explanation as a docstring in your script or turn it into a README.\n"
   ]
  },
  {
   "cell_type": "code",
   "execution_count": 20,
   "id": "718d4361",
   "metadata": {},
   "outputs": [
    {
     "name": "stdout",
     "output_type": "stream",
     "text": [
      "Converted 'Appointment.xlsx' - Sheet 'Sheet1' to 'Appointment.csv' with 35 records\n",
      "Converted 'beds.xlsx' - Sheet 'bed3' to 'beds.csv' with 67 records\n",
      "Converted 'Department.xlsx' - Sheet 'Sheet1' to 'Department.csv' with 15 records\n",
      "Converted 'Doctor.xlsx' - Sheet 'Sheet1' to 'Doctor.csv' with 15 records\n",
      "Converted 'Hospital_Bills.xlsx' - Sheet 'Sheet1' to 'Hospital_Bills.csv' with 30 records\n",
      "Converted 'Medical_Stock.xlsx' - Sheet 'Sheet1' to 'Medical_Stock.csv' with 15 records\n",
      "Converted 'Medical_Tests.xlsx' - Sheet 'Sheet1' to 'Medical_Tests.csv' with 15 records\n",
      "Converted 'medicine_patient.xlsx' - Sheet 'Sheet1' to 'medicine_patient.csv' with 517 records\n",
      "Converted 'patient.xlsx' - Sheet 'Sheet1' to 'patient.csv' with 30 records\n",
      "Converted 'Patient_Tests.xlsx' - Sheet 'Sheet1' to 'Patient_Tests.csv' with 30 records\n",
      "Converted 'rooms.xlsx' - Sheet 'room' to 'rooms.csv' with 51 records\n",
      "Converted 'Satisfaction_Score.xlsx' - Sheet 'Sheet1' to 'Satisfaction_Score.csv' with 19 records\n",
      "Converted 'Staff.xlsx' - Sheet 'Sheet1' to 'Staff.csv' with 20 records\n",
      "Converted 'Supplier.xlsx' - Sheet 'Sheet1' to 'Supplier.csv' with 5 records\n",
      "Converted 'Surgery.xlsx' - Sheet 'Sheet1' to 'Surgery.csv' with 30 records\n"
     ]
    }
   ],
   "source": [
    "import pandas as pd\n",
    "from pathlib import Path\n",
    "\n",
    "source_folder = Path(\"C:/Users/Lenovo/OneDrive/Desktop/Repository/Hospital_my_work/PBI_Hospital_analysis_self/1_excel_Source\")\n",
    "destination_folder = Path(\"C:/Users/Lenovo/OneDrive/Desktop/Repository/Hospital_my_work/PBI_Hospital_analysis_self/2_CSV_source\")\n",
    "\n",
    "destination_folder.mkdir(parents=True, exist_ok=True)\n",
    "\n",
    "for file in source_folder.glob(\"*.xlsx\"):\n",
    "    if file.name.startswith(\"~$\"):\n",
    "        continue  # Skip temporary Excel files\n",
    "    df = pd.read_excel(file, sheet_name=None, engine='openpyxl')  # Specify engine\n",
    "\n",
    "    for sheet, data in df.items():\n",
    "        csv_file = destination_folder / f\"{file.stem}.csv\"  # Include sheet name for uniqueness\n",
    "        data.to_csv(csv_file, index=False)\n",
    "        row_count = len(data)\n",
    "        print(f\"Converted '{file.name}' - Sheet '{sheet}' to '{csv_file.name}' with {row_count} records\")\n",
    "    \n",
    "     "
   ]
  }
 ],
 "metadata": {
  "kernelspec": {
   "display_name": "myenv",
   "language": "python",
   "name": "python3"
  },
  "language_info": {
   "codemirror_mode": {
    "name": "ipython",
    "version": 3
   },
   "file_extension": ".py",
   "mimetype": "text/x-python",
   "name": "python",
   "nbconvert_exporter": "python",
   "pygments_lexer": "ipython3",
   "version": "3.13.3"
  }
 },
 "nbformat": 4,
 "nbformat_minor": 5
}
